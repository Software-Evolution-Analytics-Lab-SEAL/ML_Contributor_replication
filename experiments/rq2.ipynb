{
 "cells": [
  {
   "cell_type": "code",
   "execution_count": 1,
   "metadata": {},
   "outputs": [],
   "source": [
    "import numpy as np\n",
    "import pandas as pd\n",
    "import os\n",
    "from collections import Counter\n",
    "from scipy.stats import chi2_contingency\n",
    "from scipy.stats import mannwhitneyu\n",
    "from cliffs_delta import cliffs_delta"
   ]
  },
  {
   "cell_type": "markdown",
   "metadata": {},
   "source": [
    "## Read data"
   ]
  },
  {
   "cell_type": "code",
   "execution_count": 2,
   "metadata": {},
   "outputs": [],
   "source": [
    "def string_to_list(col):\n",
    "    if '.' in col:\n",
    "        return [float(item) for item in col.strip('[]').split(',')]\n",
    "    else:\n",
    "        return [int(item) for item in col.strip('[]').split(',')]"
   ]
  },
  {
   "cell_type": "code",
   "execution_count": 3,
   "metadata": {},
   "outputs": [],
   "source": [
    "basedir = os.path.join(\"..\",\"data\")\n",
    "developer_data = pd.read_csv(os.path.join(basedir, 'contributor_features.csv'), index_col = 0)\n",
    "developer_sequence = pd.read_csv(os.path.join(basedir,'contributor_activity_sequence.csv'), index_col=0)\n",
    "for col_name in developer_sequence:\n",
    "    if 'sequence' in col_name:\n",
    "        developer_sequence[col_name] = developer_sequence[col_name].apply(string_to_list)\n"
   ]
  },
  {
   "cell_type": "code",
   "execution_count": 4,
   "metadata": {},
   "outputs": [],
   "source": [
    "filtered_developer_period_df = pd.read_csv(os.path.join(basedir,'contributor_period_activity.csv'), index_col = 0)"
   ]
  },
  {
   "cell_type": "markdown",
   "metadata": {},
   "source": [
    "## workload composition "
   ]
  },
  {
   "cell_type": "markdown",
   "metadata": {},
   "source": [
    "### Distribution of major worload composition patterns across profiles"
   ]
  },
  {
   "cell_type": "code",
   "execution_count": 7,
   "metadata": {},
   "outputs": [],
   "source": [
    "def major_pattern(lst):\n",
    "    counter = Counter(lst)\n",
    "    max_count = max(counter.values())\n",
    "    modes = [key for key, count in counter.items() if count == max_count]\n",
    "    return max(modes)"
   ]
  },
  {
   "cell_type": "code",
   "execution_count": null,
   "metadata": {},
   "outputs": [],
   "source": [
    "developer_sequence['major pattern'] = developer_sequence['workload_sequence'].apply(major_pattern)\n",
    "developer_sequence.groupby(['profile','major pattern'])['major pattern'].count()/developer_sequence['profile'].value_counts()"
   ]
  },
  {
   "cell_type": "markdown",
   "metadata": {},
   "source": [
    "### Chi-square test and Cramer's V index"
   ]
  },
  {
   "cell_type": "code",
   "execution_count": 9,
   "metadata": {},
   "outputs": [],
   "source": [
    "pa = developer_sequence.loc[developer_sequence['profile']=='pa']\n",
    "pw = developer_sequence.loc[developer_sequence['profile']=='pw']\n",
    "ca = developer_sequence.loc[developer_sequence['profile']=='ca']\n",
    "cw = developer_sequence.loc[developer_sequence['profile']=='cw']\n",
    "core = developer_sequence.loc[developer_sequence['profile'].isin(['ca','cw'])]\n",
    "peri = developer_sequence.loc[developer_sequence['profile'].isin(['pa','pw'])]"
   ]
  },
  {
   "cell_type": "code",
   "execution_count": 10,
   "metadata": {},
   "outputs": [],
   "source": [
    "def cramers_v(contingency_table, chi2):\n",
    "    contingency_table = np.array(contingency_table)\n",
    "    n = np.sum(contingency_table)\n",
    "    v = np.sqrt(chi2 / (n * (min(np.array(contingency_table).shape) - 1)))\n",
    "    return v"
   ]
  },
  {
   "cell_type": "code",
   "execution_count": null,
   "metadata": {},
   "outputs": [],
   "source": [
    "# compare core and periphral contributors\n",
    "x1 = core['major pattern'].value_counts().sort_index().to_list()\n",
    "x2 = peri['major pattern'].value_counts().sort_index().to_list()\n",
    "contingency_table = [x1, x2]\n",
    "chi2, p, dof, expected = chi2_contingency(contingency_table)\n",
    "v = cramers_v(contingency_table, chi2)\n",
    "print(\"Chi-Square Statistic:\", chi2)\n",
    "print(\"P-value:\", p)\n",
    "print(\"Degrees of Freedom:\", dof)\n",
    "print(\"Cramer's V:\", v)"
   ]
  },
  {
   "cell_type": "code",
   "execution_count": null,
   "metadata": {},
   "outputs": [],
   "source": [
    "# compare core-afterhour and core-workhour contributors\n",
    "x1 = ca['major pattern'].value_counts().sort_index().to_list()\n",
    "x2 = cw['major pattern'].value_counts().sort_index().to_list()\n",
    "contingency_table = [x1, x2]\n",
    "chi2, p, dof, expected = chi2_contingency(contingency_table)\n",
    "v = cramers_v(contingency_table, chi2)\n",
    "print(\"Chi-Square Statistic:\", chi2)\n",
    "print(\"P-value:\", p)\n",
    "print(\"Degrees of Freedom:\", dof)\n",
    "print(\"Cramer's V:\", v)"
   ]
  },
  {
   "cell_type": "code",
   "execution_count": null,
   "metadata": {},
   "outputs": [],
   "source": [
    "# compare periphral-afterhour and periphral-workhour contributors\n",
    "x1 = pa['major pattern'].value_counts().sort_index()\n",
    "x2 = pw['major pattern'].value_counts().sort_index()\n",
    "contingency_table = [x1, x2]\n",
    "chi2, p, dof, expected = chi2_contingency(contingency_table)\n",
    "v = cramers_v(contingency_table, chi2)\n",
    "print(\"Chi-Square Statistic:\", chi2)\n",
    "print(\"P-value:\", p)\n",
    "print(\"Degrees of Freedom:\", dof)\n",
    "print(\"Cramer's V:\", v)"
   ]
  },
  {
   "cell_type": "markdown",
   "metadata": {},
   "source": [
    "## work preference"
   ]
  },
  {
   "cell_type": "code",
   "execution_count": 15,
   "metadata": {},
   "outputs": [],
   "source": [
    "work_preference_features = ['binned_entropy', 'c3(1)', 'c3(2)', 'c3(3)', 'number_cwt_peaks','longest_strike_above_mean', \n",
    "                            'longest_strike_below_mean','diverse', 'balance']\n",
    "pa = filtered_developer_period_df.loc[filtered_developer_period_df['profile']=='pa']\n",
    "pw = filtered_developer_period_df.loc[filtered_developer_period_df['profile']=='pw']\n",
    "ca = filtered_developer_period_df.loc[filtered_developer_period_df['profile']=='ca']\n",
    "cw = filtered_developer_period_df.loc[filtered_developer_period_df['profile']=='cw']\n",
    "core = filtered_developer_period_df.loc[filtered_developer_period_df['profile'].isin(['ca','cw'])]\n",
    "peri = filtered_developer_period_df.loc[filtered_developer_period_df['profile'].isin(['pa','pw'])]"
   ]
  },
  {
   "cell_type": "code",
   "execution_count": null,
   "metadata": {},
   "outputs": [],
   "source": [
    "# compare core and peripheral contributors\n",
    "for fea in work_preference_features:\n",
    "    x1, x2 = core[fea],peri[fea]\n",
    "    stat, pval = mannwhitneyu(x1, x2)\n",
    "    d, res = cliffs_delta(x1, x2)\n",
    "    if pval < 0.05: # significantly different\n",
    "        print(f'{fea} {res} ({round(d,3)})' )\n",
    "    else:  # not significantly different\n",
    "        print(f'{fea} not significant' )"
   ]
  },
  {
   "cell_type": "code",
   "execution_count": null,
   "metadata": {},
   "outputs": [],
   "source": [
    "# compare core-afterhour and core-workhour contributors\n",
    "for fea in work_preference_features:\n",
    "    x1, x2 = ca[fea],cw[fea]\n",
    "    stat, pval = mannwhitneyu(x1, x2)\n",
    "    d, res = cliffs_delta(x1, x2)\n",
    "    if pval < 0.05: # significantly different\n",
    "        print(f'{fea} {res} ({round(d,3)})' )\n",
    "    else:  # not significantly different\n",
    "        print(f'{fea} not significant' )"
   ]
  },
  {
   "cell_type": "code",
   "execution_count": null,
   "metadata": {},
   "outputs": [],
   "source": [
    "# compare peripheral-afterhour and peripheral-workhour contributors\n",
    "for fea in work_preference_features:\n",
    "    x1, x2 = pa[fea],pw[fea]\n",
    "    stat, pval = mannwhitneyu(x1, x2)\n",
    "    d, res = cliffs_delta(x1, x2)\n",
    "    if pval < 0.05: # significantly different\n",
    "        print(f'{fea} {res} ({round(d,3)})' )\n",
    "    else:  # not significantly different\n",
    "        print(f'{fea} not significant' )"
   ]
  },
  {
   "cell_type": "markdown",
   "metadata": {},
   "source": [
    "### technical importance"
   ]
  },
  {
   "cell_type": "code",
   "execution_count": 19,
   "metadata": {},
   "outputs": [],
   "source": [
    "pa = developer_sequence.loc[developer_sequence['profile']=='pa']\n",
    "pw = developer_sequence.loc[developer_sequence['profile']=='pw']\n",
    "ca = developer_sequence.loc[developer_sequence['profile']=='ca']\n",
    "cw = developer_sequence.loc[developer_sequence['profile']=='cw']\n",
    "core = developer_sequence.loc[developer_sequence['profile'].isin(['ca','cw'])]\n",
    "peri = developer_sequence.loc[developer_sequence['profile'].isin(['pa','pw'])]"
   ]
  },
  {
   "cell_type": "code",
   "execution_count": 20,
   "metadata": {},
   "outputs": [],
   "source": [
    "technical_importance_metric = [ 'max_period_centrality', 'max_centrality_period','max_commit_centrality', 'max_centrality_day']"
   ]
  },
  {
   "cell_type": "code",
   "execution_count": null,
   "metadata": {},
   "outputs": [],
   "source": [
    "# compare core and peripheral contributors\n",
    "for fea in technical_importance_metric:\n",
    "    x1, x2 = core[fea],peri[fea]\n",
    "    stat, pval = mannwhitneyu(x1, x2)\n",
    "    d, res = cliffs_delta(x1, x2)\n",
    "    if pval < 0.05: # significantly different\n",
    "        print(f'{fea} {res} ({round(d,3)})' )\n",
    "    else:  # not significantly different\n",
    "        print(f'{fea} not significant' )"
   ]
  },
  {
   "cell_type": "code",
   "execution_count": null,
   "metadata": {},
   "outputs": [],
   "source": [
    "# compare core-afterhour and core-workhour contributors\n",
    "for fea in technical_importance_metric:\n",
    "    x1, x2 = ca[fea],pa[fea]\n",
    "    stat, pval = mannwhitneyu(x1, x2)\n",
    "    d, res = cliffs_delta(x1, x2)\n",
    "    if pval < 0.05: # significantly different\n",
    "        print(f'{fea} {res} ({round(d,3)})' )\n",
    "    else:  # not significantly different\n",
    "        print(f'{fea} not significant' )"
   ]
  },
  {
   "cell_type": "code",
   "execution_count": null,
   "metadata": {},
   "outputs": [],
   "source": [
    "# compare peripheral-afterhour and peripheral-workhour contributors\n",
    "for fea in technical_importance_metric:\n",
    "    x1, x2 = pa[fea],pw[fea]\n",
    "    stat, pval = mannwhitneyu(x1, x2)\n",
    "    d, res = cliffs_delta(x1, x2)\n",
    "    if pval < 0.05: # significantly different\n",
    "        print(f'{fea} {res} ({round(d,3)})' )\n",
    "    else:  # not significantly different\n",
    "        print(f'{fea} not significant' )"
   ]
  },
  {
   "cell_type": "markdown",
   "metadata": {},
   "source": [
    "# ML Components"
   ]
  },
  {
   "cell_type": "code",
   "execution_count": 46,
   "metadata": {},
   "outputs": [],
   "source": [
    "labeled_components = pd.read_csv(os.path.join(basedir, 'ML_component_labels.csv'))\n",
    "ca_label = labeled_components.loc[labeled_components['owner profile']=='ca']['label']\n",
    "cw_label = labeled_components.loc[labeled_components['owner profile']=='cw']['label']\n",
    "pa_label = labeled_components.loc[labeled_components['owner profile']=='pa']['label']\n",
    "pw_label = labeled_components.loc[labeled_components['owner profile']=='pw']['label']\n",
    "core_label = pd.concat([ca_label,cw_label])\n",
    "peri_label = pd.concat([pa_label,pw_label])"
   ]
  },
  {
   "cell_type": "code",
   "execution_count": null,
   "metadata": {},
   "outputs": [],
   "source": [
    "ca_label.value_counts()/len(ca_label)"
   ]
  },
  {
   "cell_type": "code",
   "execution_count": null,
   "metadata": {},
   "outputs": [],
   "source": [
    "cw_label.value_counts()/len(cw_label)"
   ]
  },
  {
   "cell_type": "code",
   "execution_count": null,
   "metadata": {},
   "outputs": [],
   "source": [
    "pa_label.value_counts()/len(pa_label)"
   ]
  },
  {
   "cell_type": "code",
   "execution_count": null,
   "metadata": {},
   "outputs": [],
   "source": [
    "pw_label.value_counts()/len(pw_label)"
   ]
  },
  {
   "cell_type": "code",
   "execution_count": null,
   "metadata": {},
   "outputs": [],
   "source": [
    "# compare core and periphral contributors\n",
    "x1 = core_label.value_counts().sort_index().to_list()\n",
    "x2 = peri_label.value_counts().sort_index().to_list()\n",
    "contingency_table = [x1, x2]\n",
    "chi2, p, dof, expected = chi2_contingency(contingency_table)\n",
    "v = cramers_v(contingency_table, chi2)\n",
    "print(\"Chi-Square Statistic:\", chi2)\n",
    "print(\"P-value:\", p)\n",
    "print(\"Degrees of Freedom:\", dof)\n",
    "print(\"Cramer's V:\", v)"
   ]
  },
  {
   "cell_type": "code",
   "execution_count": null,
   "metadata": {},
   "outputs": [],
   "source": [
    "# compare ca and cw contributors\n",
    "x1 = ca_label.value_counts().sort_index().to_list()\n",
    "x2 = cw_label.value_counts().sort_index().to_list()\n",
    "contingency_table = [x1, x2]\n",
    "chi2, p, dof, expected = chi2_contingency(contingency_table)\n",
    "v = cramers_v(contingency_table, chi2)\n",
    "print(\"Chi-Square Statistic:\", chi2)\n",
    "print(\"P-value:\", p)\n",
    "print(\"Degrees of Freedom:\", dof)\n",
    "print(\"Cramer's V:\", v)"
   ]
  },
  {
   "cell_type": "code",
   "execution_count": null,
   "metadata": {},
   "outputs": [],
   "source": [
    "# compare pa and pw contributors\n",
    "x1 = pa_label.value_counts().sort_index().to_list()\n",
    "x2 = pw_label.value_counts().sort_index().to_list()\n",
    "contingency_table = [x1, x2]\n",
    "chi2, p, dof, expected = chi2_contingency(contingency_table)\n",
    "v = cramers_v(contingency_table, chi2)\n",
    "print(\"Chi-Square Statistic:\", chi2)\n",
    "print(\"P-value:\", p)\n",
    "print(\"Degrees of Freedom:\", dof)\n",
    "print(\"Cramer's V:\", v)"
   ]
  }
 ],
 "metadata": {
  "kernelspec": {
   "display_name": "base",
   "language": "python",
   "name": "python3"
  },
  "language_info": {
   "codemirror_mode": {
    "name": "ipython",
    "version": 3
   },
   "file_extension": ".py",
   "mimetype": "text/x-python",
   "name": "python",
   "nbconvert_exporter": "python",
   "pygments_lexer": "ipython3",
   "version": "3.10.11"
  }
 },
 "nbformat": 4,
 "nbformat_minor": 2
}
