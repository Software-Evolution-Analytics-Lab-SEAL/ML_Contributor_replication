{
 "cells": [
  {
   "cell_type": "code",
   "execution_count": 1,
   "metadata": {},
   "outputs": [],
   "source": [
    "import numpy as np\n",
    "import pandas as pd\n",
    "import os\n",
    "from collections import Counter\n",
    "from scipy.stats import chi2_contingency\n",
    "from scipy.stats import mannwhitneyu\n",
    "from cliffs_delta import cliffs_delta"
   ]
  },
  {
   "cell_type": "markdown",
   "metadata": {},
   "source": [
    "## Read data"
   ]
  },
  {
   "cell_type": "code",
   "execution_count": 2,
   "metadata": {},
   "outputs": [],
   "source": [
    "def string_to_list(col):\n",
    "    if '.' in col:\n",
    "        return [float(item) for item in col.strip('[]').split(',')]\n",
    "    else:\n",
    "        return [int(item) for item in col.strip('[]').split(',')]"
   ]
  },
  {
   "cell_type": "code",
   "execution_count": 3,
   "metadata": {},
   "outputs": [],
   "source": [
    "basedir = os.path.join(\"..\",\"data\")\n",
    "developer_data = pd.read_csv(os.path.join(basedir, 'contributor_features.csv'), index_col = 0)\n",
    "developer_sequence = pd.read_csv(os.path.join(basedir,'contributor_activity_sequence.csv'), index_col=0)\n",
    "for col_name in developer_sequence:\n",
    "    if 'sequence' in col_name:\n",
    "        developer_sequence[col_name] = developer_sequence[col_name].apply(string_to_list)\n"
   ]
  },
  {
   "cell_type": "code",
   "execution_count": 4,
   "metadata": {},
   "outputs": [],
   "source": [
    "filtered_developer_period_df = pd.read_csv(os.path.join(basedir,'contributor_period_activity.csv'), index_col = 0)"
   ]
  },
  {
   "cell_type": "markdown",
   "metadata": {},
   "source": [
    "## workload composition "
   ]
  },
  {
   "cell_type": "markdown",
   "metadata": {},
   "source": [
    "### Distribution of major worload composition patterns across profiles"
   ]
  },
  {
   "cell_type": "code",
   "execution_count": 5,
   "metadata": {},
   "outputs": [],
   "source": [
    "def major_pattern(lst):\n",
    "    counter = Counter(lst)\n",
    "    max_count = max(counter.values())\n",
    "    modes = [key for key, count in counter.items() if count == max_count]\n",
    "    return min(modes)"
   ]
  },
  {
   "cell_type": "code",
   "execution_count": 6,
   "metadata": {},
   "outputs": [
    {
     "data": {
      "text/plain": [
       "profile  major pattern\n",
       "ca       1                0.175910\n",
       "         2                0.156846\n",
       "         3                0.441075\n",
       "         4                0.204506\n",
       "         5                0.021664\n",
       "cw       1                0.187551\n",
       "         2                0.175266\n",
       "         3                0.418509\n",
       "         4                0.190827\n",
       "         5                0.027846\n",
       "pa       1                0.299421\n",
       "         2                0.187345\n",
       "         3                0.354839\n",
       "         4                0.156328\n",
       "         5                0.002068\n",
       "pw       1                0.277695\n",
       "         2                0.176580\n",
       "         3                0.392193\n",
       "         4                0.148327\n",
       "         5                0.005204\n",
       "dtype: float64"
      ]
     },
     "execution_count": 6,
     "metadata": {},
     "output_type": "execute_result"
    }
   ],
   "source": [
    "developer_sequence['major pattern'] = developer_sequence['workload_sequence'].apply(major_pattern)\n",
    "developer_sequence.groupby(['profile','major pattern'])['major pattern'].count()/developer_sequence['profile'].value_counts()"
   ]
  },
  {
   "cell_type": "markdown",
   "metadata": {},
   "source": [
    "### Chi-square test and Cramer's V index"
   ]
  },
  {
   "cell_type": "code",
   "execution_count": 7,
   "metadata": {},
   "outputs": [],
   "source": [
    "pa = developer_sequence.loc[developer_sequence['profile']=='pa']\n",
    "pw = developer_sequence.loc[developer_sequence['profile']=='pw']\n",
    "ca = developer_sequence.loc[developer_sequence['profile']=='ca']\n",
    "cw = developer_sequence.loc[developer_sequence['profile']=='cw']\n",
    "core = developer_sequence.loc[developer_sequence['profile'].isin(['ca','cw'])]\n",
    "peri = developer_sequence.loc[developer_sequence['profile'].isin(['pa','pw'])]"
   ]
  },
  {
   "cell_type": "code",
   "execution_count": 8,
   "metadata": {},
   "outputs": [],
   "source": [
    "def cramers_v(contingency_table, chi2):\n",
    "    contingency_table = np.array(contingency_table)\n",
    "    n = np.sum(contingency_table)\n",
    "    v = np.sqrt(chi2 / (n * (min(np.array(contingency_table).shape) - 1)))\n",
    "    return v"
   ]
  },
  {
   "cell_type": "code",
   "execution_count": 10,
   "metadata": {},
   "outputs": [
    {
     "name": "stdout",
     "output_type": "stream",
     "text": [
      "Chi-Square Statistic: 175.82633356744728\n",
      "P-value: 5.871686473518987e-37\n",
      "Degrees of Freedom: 4\n",
      "Cramer's V: 0.15328656330144372\n"
     ]
    }
   ],
   "source": [
    "# compare core and periphral contributors\n",
    "x1 = core['major pattern'].value_counts().sort_index().to_list()\n",
    "x2 = peri['major pattern'].value_counts().sort_index().to_list()\n",
    "contingency_table = [x1, x2]\n",
    "chi2, p, dof, expected = chi2_contingency(contingency_table)\n",
    "v = cramers_v(contingency_table, chi2)\n",
    "print(\"Chi-Square Statistic:\", chi2)\n",
    "print(\"P-value:\", p)\n",
    "print(\"Degrees of Freedom:\", dof)\n",
    "print(\"Cramer's V:\", v)"
   ]
  },
  {
   "cell_type": "code",
   "execution_count": 11,
   "metadata": {},
   "outputs": [
    {
     "name": "stdout",
     "output_type": "stream",
     "text": [
      "Chi-Square Statistic: 3.8307128777585735\n",
      "P-value: 0.42940087789801107\n",
      "Degrees of Freedom: 4\n",
      "Cramer's V: 0.04016132141754813\n"
     ]
    }
   ],
   "source": [
    "# compare core-afterhour and core-workhour contributors\n",
    "x1 = ca['major pattern'].value_counts().sort_index().to_list()\n",
    "x2 = cw['major pattern'].value_counts().sort_index().to_list()\n",
    "contingency_table = [x1, x2]\n",
    "chi2, p, dof, expected = chi2_contingency(contingency_table)\n",
    "v = cramers_v(contingency_table, chi2)\n",
    "print(\"Chi-Square Statistic:\", chi2)\n",
    "print(\"P-value:\", p)\n",
    "print(\"Degrees of Freedom:\", dof)\n",
    "print(\"Cramer's V:\", v)"
   ]
  },
  {
   "cell_type": "code",
   "execution_count": 12,
   "metadata": {},
   "outputs": [
    {
     "name": "stdout",
     "output_type": "stream",
     "text": [
      "Chi-Square Statistic: 11.547677458325337\n",
      "P-value: 0.021051766936966296\n",
      "Degrees of Freedom: 4\n",
      "Cramer's V: 0.04754686403153862\n"
     ]
    }
   ],
   "source": [
    "# compare periphral-afterhour and periphral-workhour contributors\n",
    "x1 = pa['major pattern'].value_counts().sort_index()\n",
    "x2 = pw['major pattern'].value_counts().sort_index()\n",
    "contingency_table = [x1, x2]\n",
    "chi2, p, dof, expected = chi2_contingency(contingency_table)\n",
    "v = cramers_v(contingency_table, chi2)\n",
    "print(\"Chi-Square Statistic:\", chi2)\n",
    "print(\"P-value:\", p)\n",
    "print(\"Degrees of Freedom:\", dof)\n",
    "print(\"Cramer's V:\", v)"
   ]
  },
  {
   "cell_type": "markdown",
   "metadata": {},
   "source": [
    "## work preference"
   ]
  },
  {
   "cell_type": "code",
   "execution_count": 13,
   "metadata": {},
   "outputs": [],
   "source": [
    "work_preference_features = ['binned_entropy', 'c3(1)', 'c3(2)', 'c3(3)', 'number_cwt_peaks','longest_strike_above_mean', \n",
    "                            'longest_strike_below_mean','diverse', 'balance']\n",
    "pa = filtered_developer_period_df.loc[filtered_developer_period_df['profile']=='pa']\n",
    "pw = filtered_developer_period_df.loc[filtered_developer_period_df['profile']=='pw']\n",
    "ca = filtered_developer_period_df.loc[filtered_developer_period_df['profile']=='ca']\n",
    "cw = filtered_developer_period_df.loc[filtered_developer_period_df['profile']=='cw']\n",
    "core = filtered_developer_period_df.loc[filtered_developer_period_df['profile'].isin(['ca','cw'])]\n",
    "peri = filtered_developer_period_df.loc[filtered_developer_period_df['profile'].isin(['pa','pw'])]"
   ]
  },
  {
   "cell_type": "code",
   "execution_count": 14,
   "metadata": {},
   "outputs": [
    {
     "name": "stdout",
     "output_type": "stream",
     "text": [
      "binned_entropy large (0.497)\n",
      "c3(1) medium (0.343)\n",
      "c3(2) small (0.292)\n",
      "c3(3) small (0.292)\n",
      "number_cwt_peaks large (0.491)\n",
      "longest_strike_above_mean medium (0.377)\n",
      "longest_strike_below_mean medium (-0.444)\n",
      "diverse small (0.284)\n",
      "balance medium (-0.339)\n"
     ]
    }
   ],
   "source": [
    "# compare core and peripheral contributors\n",
    "for fea in work_preference_features:\n",
    "    x1, x2 = core[fea],peri[fea]\n",
    "    stat, pval = mannwhitneyu(x1, x2)\n",
    "    d, res = cliffs_delta(x1, x2)\n",
    "    if pval < 0.05: # significantly different\n",
    "        print(f'{fea} {res} ({round(d,3)})' )\n",
    "    else:  # not significantly different\n",
    "        print(f'{fea} not significant' )"
   ]
  },
  {
   "cell_type": "code",
   "execution_count": 15,
   "metadata": {},
   "outputs": [
    {
     "name": "stdout",
     "output_type": "stream",
     "text": [
      "binned_entropy negligible (-0.055)\n",
      "c3(1) negligible (-0.079)\n",
      "c3(2) negligible (-0.066)\n",
      "c3(3) negligible (-0.07)\n",
      "number_cwt_peaks negligible (-0.034)\n",
      "longest_strike_above_mean negligible (-0.052)\n",
      "longest_strike_below_mean not significant\n",
      "diverse negligible (-0.144)\n",
      "balance negligible (0.042)\n"
     ]
    }
   ],
   "source": [
    "# compare core-afterhour and core-workhour contributors\n",
    "for fea in work_preference_features:\n",
    "    x1, x2 = ca[fea],cw[fea]\n",
    "    stat, pval = mannwhitneyu(x1, x2)\n",
    "    d, res = cliffs_delta(x1, x2)\n",
    "    if pval < 0.05: # significantly different\n",
    "        print(f'{fea} {res} ({round(d,3)})' )\n",
    "    else:  # not significantly different\n",
    "        print(f'{fea} not significant' )"
   ]
  },
  {
   "cell_type": "code",
   "execution_count": 16,
   "metadata": {},
   "outputs": [
    {
     "name": "stdout",
     "output_type": "stream",
     "text": [
      "binned_entropy not significant\n",
      "c3(1) negligible (0.016)\n",
      "c3(2) negligible (0.01)\n",
      "c3(3) negligible (0.012)\n",
      "number_cwt_peaks not significant\n",
      "longest_strike_above_mean negligible (0.026)\n",
      "longest_strike_below_mean not significant\n",
      "diverse not significant\n",
      "balance negligible (-0.045)\n"
     ]
    }
   ],
   "source": [
    "# compare peripheral-afterhour and peripheral-workhour contributors\n",
    "for fea in work_preference_features:\n",
    "    x1, x2 = pa[fea],pw[fea]\n",
    "    stat, pval = mannwhitneyu(x1, x2)\n",
    "    d, res = cliffs_delta(x1, x2)\n",
    "    if pval < 0.05: # significantly different\n",
    "        print(f'{fea} {res} ({round(d,3)})' )\n",
    "    else:  # not significantly different\n",
    "        print(f'{fea} not significant' )"
   ]
  },
  {
   "cell_type": "markdown",
   "metadata": {},
   "source": [
    "### technical importance"
   ]
  },
  {
   "cell_type": "code",
   "execution_count": 18,
   "metadata": {},
   "outputs": [],
   "source": [
    "pa = developer_sequence.loc[developer_sequence['profile']=='pa']\n",
    "pw = developer_sequence.loc[developer_sequence['profile']=='pw']\n",
    "ca = developer_sequence.loc[developer_sequence['profile']=='ca']\n",
    "cw = developer_sequence.loc[developer_sequence['profile']=='cw']\n",
    "core = developer_sequence.loc[developer_sequence['profile'].isin(['ca','cw'])]\n",
    "peri = developer_sequence.loc[developer_sequence['profile'].isin(['pa','pw'])]"
   ]
  },
  {
   "cell_type": "code",
   "execution_count": 22,
   "metadata": {},
   "outputs": [],
   "source": [
    "technical_importance_metric = [ 'max_period_centrality', 'max_centrality_period','max_commit_centrality', 'max_centrality_day']"
   ]
  },
  {
   "cell_type": "code",
   "execution_count": 24,
   "metadata": {},
   "outputs": [
    {
     "name": "stdout",
     "output_type": "stream",
     "text": [
      "max_period_centrality large (0.613)\n",
      "max_centrality_period medium (0.447)\n",
      "max_commit_centrality large (0.595)\n",
      "max_centrality_day large (0.522)\n"
     ]
    }
   ],
   "source": [
    "# compare core and peripheral contributors\n",
    "for fea in technical_importance_metric:\n",
    "    x1, x2 = core[fea],peri[fea]\n",
    "    stat, pval = mannwhitneyu(x1, x2)\n",
    "    d, res = cliffs_delta(x1, x2)\n",
    "    if pval < 0.05: # significantly different\n",
    "        print(f'{fea} {res} ({round(d,3)})' )\n",
    "    else:  # not significantly different\n",
    "        print(f'{fea} not significant' )"
   ]
  },
  {
   "cell_type": "code",
   "execution_count": 25,
   "metadata": {},
   "outputs": [
    {
     "name": "stdout",
     "output_type": "stream",
     "text": [
      "max_period_centrality large (0.617)\n",
      "max_centrality_period medium (0.469)\n",
      "max_commit_centrality large (0.602)\n",
      "max_centrality_day large (0.542)\n"
     ]
    }
   ],
   "source": [
    "# compare core-afterhour and core-workhour contributors\n",
    "for fea in technical_importance_metric:\n",
    "    x1, x2 = ca[fea],pa[fea]\n",
    "    stat, pval = mannwhitneyu(x1, x2)\n",
    "    d, res = cliffs_delta(x1, x2)\n",
    "    if pval < 0.05: # significantly different\n",
    "        print(f'{fea} {res} ({round(d,3)})' )\n",
    "    else:  # not significantly different\n",
    "        print(f'{fea} not significant' )"
   ]
  },
  {
   "cell_type": "code",
   "execution_count": 23,
   "metadata": {},
   "outputs": [
    {
     "name": "stdout",
     "output_type": "stream",
     "text": [
      "max_period_centrality negligible (-0.077)\n",
      "max_centrality_period not significant\n",
      "max_commit_centrality negligible (-0.083)\n",
      "max_centrality_day not significant\n"
     ]
    }
   ],
   "source": [
    "# compare peripheral-afterhour and peripheral-workhour contributors\n",
    "for fea in technical_importance_metric:\n",
    "    x1, x2 = pa[fea],pw[fea]\n",
    "    stat, pval = mannwhitneyu(x1, x2)\n",
    "    d, res = cliffs_delta(x1, x2)\n",
    "    if pval < 0.05: # significantly different\n",
    "        print(f'{fea} {res} ({round(d,3)})' )\n",
    "    else:  # not significantly different\n",
    "        print(f'{fea} not significant' )"
   ]
  }
 ],
 "metadata": {
  "kernelspec": {
   "display_name": "base",
   "language": "python",
   "name": "python3"
  },
  "language_info": {
   "codemirror_mode": {
    "name": "ipython",
    "version": 3
   },
   "file_extension": ".py",
   "mimetype": "text/x-python",
   "name": "python",
   "nbconvert_exporter": "python",
   "pygments_lexer": "ipython3",
   "version": "3.10.11"
  }
 },
 "nbformat": 4,
 "nbformat_minor": 2
}
