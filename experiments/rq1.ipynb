{
 "cells": [
  {
   "cell_type": "code",
   "execution_count": null,
   "id": "41d0dc23-9857-4964-ad1b-de890bcbdb15",
   "metadata": {
    "editable": true,
    "slideshow": {
     "slide_type": ""
    },
    "tags": []
   },
   "outputs": [],
   "source": [
    "import numpy as np\n",
    "import pandas as pd\n",
    "import os\n",
    "import sklearn\n",
    "from sklearn.model_selection import train_test_split\n",
    "from sklearn.metrics import accuracy_score\n",
    "from sklearn.metrics import roc_curve\n",
    "from sklearn.metrics import auc\n",
    "from sklearn.utils import shuffle\n",
    "import rpy2.robjects as ro\n",
    "from rpy2.robjects.packages import importr, data\n",
    "from rpy2.robjects import pandas2ri\n",
    "from rpy2.robjects import numpy2ri\n",
    "from tabulate import tabulate\n",
    "import scipy\n",
    "from cliffs_delta import cliffs_delta\n",
    "import seaborn as sns\n"
   ]
  },
  {
   "cell_type": "code",
   "execution_count": null,
   "id": "76c28e4c-82e8-4bd2-8500-2cec9bfee41f",
   "metadata": {
    "editable": true,
    "slideshow": {
     "slide_type": ""
    },
    "tags": []
   },
   "outputs": [],
   "source": [
    "import warnings\n",
    "warnings.filterwarnings(\"ignore\")"
   ]
  },
  {
   "cell_type": "code",
   "execution_count": null,
   "id": "3be0cc95-cc3c-45fe-afd0-c9777b968009",
   "metadata": {
    "editable": true,
    "slideshow": {
     "slide_type": ""
    },
    "tags": []
   },
   "outputs": [],
   "source": [
    "%load_ext rpy2.ipython"
   ]
  },
  {
   "cell_type": "code",
   "execution_count": null,
   "id": "8659b540-6dd8-4f77-8c83-b81ce07b0d93",
   "metadata": {
    "editable": true,
    "slideshow": {
     "slide_type": ""
    },
    "tags": []
   },
   "outputs": [],
   "source": [
    "utils = importr('utils')\n",
    "base = importr('base')\n",
    "utils.chooseCRANmirror(ind=1)"
   ]
  },
  {
   "cell_type": "code",
   "execution_count": null,
   "id": "89933f97-139e-4a34-ae4a-82b905abc1fa",
   "metadata": {},
   "outputs": [],
   "source": [
    "def arrow(num):\n",
    "    return '↗' if num > 0 else '↘'\n",
    "def signf_code(chisq):\n",
    "    if chisq <= 0.001:\n",
    "        return '***'\n",
    "    elif chisq <= 0.01:\n",
    "        return '**'\n",
    "    elif chisq <= 0.05:\n",
    "        return '*'\n",
    "    elif chisq <= 0.1:\n",
    "        return '.'\n",
    "    else:\n",
    "        return ' '"
   ]
  },
  {
   "cell_type": "code",
   "execution_count": null,
   "id": "5a571ce5",
   "metadata": {},
   "outputs": [],
   "source": [
    "def min_max_normalize(column):\n",
    "    col_min = column.min()\n",
    "    col_max = column.max()\n",
    "    if col_min == col_max:\n",
    "        return 0 if col_min == 0 else column / col_min\n",
    "    else:\n",
    "        return (column - col_min) / (col_max - col_min)"
   ]
  },
  {
   "cell_type": "markdown",
   "id": "281b3cd2-65be-4110-8382-6f057a1d0044",
   "metadata": {},
   "source": [
    "## Prepare training and testing dataset"
   ]
  },
  {
   "cell_type": "code",
   "execution_count": null,
   "id": "338d2d8f-7f7b-405e-995f-91c48fc8b274",
   "metadata": {
    "editable": true,
    "slideshow": {
     "slide_type": ""
    },
    "tags": []
   },
   "outputs": [],
   "source": [
    "basedir = os.path.join(\"..\",\"data\")\n",
    "developer_data = pd.read_csv(os.path.join(basedir, 'contributor_features.csv'), index_col = 0)"
   ]
  },
  {
   "cell_type": "code",
   "execution_count": null,
   "id": "33f824e4-8428-4713-9b0e-67f2ad01bf21",
   "metadata": {
    "editable": true,
    "slideshow": {
     "slide_type": ""
    },
    "tags": []
   },
   "outputs": [],
   "source": [
    "features = ['Duration', 'Timezone', 'Worktime',\n",
    "       'Total Commits', 'Authored files', 'Commit Rate', 'Code Commits',\n",
    "       'Code Commit Rate', 'Other Commits', 'Other Commit Rate',\n",
    "       'Code Contribution', 'Code Contribution Rate',\n",
    "       'Code Contribution Density', 'Total Issues', 'Issue Participated',\n",
    "       'Issue Solved', 'Issue Contribution', 'Issue Contribution Rate',\n",
    "       'Issue Solving Ratio', 'Issue Solving Density', 'Total Pull Requests',\n",
    "       'PR Merged', 'PR Reviewed', 'PR Participated', 'PR Contribution',\n",
    "       'PR Contribution Rate', 'PR Approval Ratio', 'PR Approval Density',\n",
    "       'Followers', 'Collaborations', 'Languages']\n",
    "\n",
    "non_correlated_redundant = ['Duration','Timezone','Worktime','Total Commits','Authored files','Commit Rate','Code Commit Rate','Other Commits',\n",
    "                             'Code Contribution Rate','Code Contribution Density','Total Issues', 'Issue Contribution Rate','Issue Solved',\n",
    "                             'Issue Participated','PR Merged','PR Reviewed','PR Contribution Rate','PR Approval Ratio','PR Approval Density','Followers',\n",
    "                              'Collaborations','Languages']"
   ]
  },
  {
   "cell_type": "code",
   "execution_count": null,
   "id": "0cb318c6-74da-4bd5-a5b4-92fb99c0e20a",
   "metadata": {
    "editable": true,
    "slideshow": {
     "slide_type": ""
    },
    "tags": []
   },
   "outputs": [],
   "source": [
    "clustering_features = [\"Worktime\",\"Code Contribution Density\", \"Languages\", \"Total Commits\"]\n",
    "non_cluster_features = [item for item in features if not item in clustering_features]\n",
    "noncor_model_features = [item for item in non_correlated_redundant if not item in clustering_features]"
   ]
  },
  {
   "cell_type": "code",
   "execution_count": null,
   "id": "be348209-952e-4260-bd7c-cb116dc1e2bd",
   "metadata": {
    "editable": true,
    "slideshow": {
     "slide_type": ""
    },
    "tags": []
   },
   "outputs": [],
   "source": [
    "encoder = sklearn.preprocessing.LabelEncoder()\n",
    "#encoder.fit([['tensorflow', 0], ['pytorch', 1], ['keras', 2], ['mxnet', 3], ['theano',4], ['onnx', 5]])\n",
    "encoder.fit(developer_data[\"Project\"])\n",
    "developer_data[\"project_encoded\"]=encoder.transform(developer_data[\"Project\"])\n",
    "developer_data[\"project_encoded\"].value_counts()"
   ]
  },
  {
   "cell_type": "code",
   "execution_count": null,
   "id": "afab6e41",
   "metadata": {},
   "outputs": [],
   "source": [
    "# normalization\n",
    "normalized = developer_data.copy(deep=True)\n",
    "for fea in noncor_model_features:\n",
    "    normalized[fea] = min_max_normalize(normalized[fea])"
   ]
  },
  {
   "cell_type": "markdown",
   "id": "488b98a6-cca7-4e2f-989d-253d26b08778",
   "metadata": {},
   "source": [
    "## Binary logistic regression"
   ]
  },
  {
   "cell_type": "code",
   "execution_count": null,
   "id": "7c1d9eca-c9b2-4d27-bcea-53058270ba66",
   "metadata": {},
   "outputs": [],
   "source": [
    "# run this cell to install required packages only for first time executing this file\n",
    "utils.install_packages('rms')\n",
    "utils.install_packages('stats')\n",
    "utils.install_packages('ScottKnottESD')\n",
    "utils.install_packages('Hmisc')\n",
    "utils.install_packages('car')\n",
    "utils.install_packages('lmtest')\n",
    "utils.install_packages('pROC')\n",
    "utils.install_packages('caret')"
   ]
  },
  {
   "cell_type": "code",
   "execution_count": null,
   "id": "7d9f64a0-106a-4e4a-9681-8da0b132c2d1",
   "metadata": {},
   "outputs": [],
   "source": [
    "rms = importr('rms')\n",
    "lmtest = importr('lmtest')\n",
    "stats = importr('stats')\n",
    "car = importr('car')\n",
    "hmisc = importr('Hmisc')\n",
    "proc = importr('pROC')\n",
    "caret = importr('caret')\n",
    "graphics = importr('graphics')\n",
    "sk = importr('ScottKnottESD')\n",
    "#grdevices = importr('grDevices')"
   ]
  },
  {
   "cell_type": "code",
   "execution_count": null,
   "id": "5c77344e-b9ef-4bf0-be58-24c2eda131ea",
   "metadata": {
    "editable": true,
    "slideshow": {
     "slide_type": ""
    },
    "tags": []
   },
   "outputs": [],
   "source": [
    "# active pandas dataframe and numpy array in r\n",
    "pandas2ri.activate()\n",
    "numpy2ri.activate()"
   ]
  },
  {
   "cell_type": "markdown",
   "id": "6b4e6b71-ee02-4eb3-8544-35de2ec9186d",
   "metadata": {},
   "source": [
    "### profile 0 : core - afterhour"
   ]
  },
  {
   "cell_type": "code",
   "execution_count": null,
   "id": "49192338-1621-405c-9a88-16d4fef1e521",
   "metadata": {},
   "outputs": [],
   "source": [
    "# the result might be slightly different every time executing thie code due to data sampling and shuffling\n",
    "profile = 'ca'\n",
    "developer_data.loc[developer_data['profile'] == profile, 'model_label'] = 1\n",
    "developer_data.loc[developer_data['profile'] != profile, 'model_label'] = 0\n",
    "\n",
    "total = developer_data['model_label'].value_counts()[0]\n",
    "numerator = developer_data['model_label'].value_counts()[1]\n",
    "dataset = shuffle(pd.concat([developer_data.loc[developer_data['model_label'] == 1],\n",
    "                    developer_data.loc[developer_data['model_label'] == 0].sample(developer_data['model_label'].value_counts()[1])]))\n",
    "current_features = noncor_model_features#+[\"project_encoded\"]\n",
    "x = np.array(dataset[current_features])\n",
    "y = np.array(dataset['model_label'])\n",
    "\n",
    "current_features = [item.replace(' ','.') for item in current_features]\n",
    "dataset = pd.DataFrame(data=x, columns = [item.replace(' ','.') for item in current_features])\n",
    "dataset['model_label'] = y\n",
    "\n",
    "\n",
    "with (ro.default_converter + pandas2ri.converter).context():\n",
    "  dataset_r = ro.conversion.py2rpy(dataset)\n",
    "\n",
    "frmla = 'model_label' + ' ~ ' +' + '.join(dataset.columns[:-1])\n",
    "frmla\n",
    "# ddist = rms.datadist(dataset_r)\n",
    "# base.options(datadist=ddist)\n",
    "\n",
    "glm_model = stats.glm(formula=ro.Formula(frmla), data=dataset_r,maxit=1000)\n",
    "print('glm model done')\n",
    "step_glm = stats.step(glm_model, direction='both', trace='F')\n",
    "w = car.Anova(step_glm, type=\"II\", test=\"Wald\")\n",
    "coef = lmtest.coeftest(step_glm)\n",
    "with (ro.default_converter + pandas2ri.converter).context():\n",
    "  w_pd = ro.conversion.get_conversion().rpy2py(w)\n",
    "with (ro.default_converter + pandas2ri.converter).context():\n",
    "  step_glm = ro.conversion.get_conversion().rpy2py(step_glm)\n",
    "fitted_values = list(map(lambda x: 0 if x < 0.5 else 1, step_glm['fitted.values']))\n",
    "# roc1 <- roc(data1$lr_label, m1$fitted.values)\n",
    "# auc(roc1)\n",
    "accuracy = accuracy_score(y, fitted_values)\n",
    "fpr, tpr, thresholds = roc_curve(y, fitted_values)\n",
    "_auc = auc(fpr, tpr)\n",
    "print('number of datapoints: ',len(dataset))\n",
    "print('Accuracy: ',accuracy)\n",
    "print('AUC: ',_auc)\n",
    "\n",
    "w_pd['Chisq%'] = w_pd['Chisq']*100/w_pd['Chisq'].sum()\n",
    "w_pd['Chisq%'] = w_pd['Chisq%'].round(2)\n",
    "w_pd['Signf.'] = w_pd['Pr(>Chisq)'].apply(signf_code)\n",
    "w_pd['Rel.'] = list(zip(*coef))[0][1:]\n",
    "w_pd['Rel.'] = w_pd['Rel.'].apply(arrow)\n",
    "w_pd[['Chisq%','Signf.', 'Rel.']]"
   ]
  },
  {
   "cell_type": "markdown",
   "id": "a3e5f3e9-faad-4497-bf75-82a10e7c7632",
   "metadata": {},
   "source": [
    "### profile 1 : core - workhour"
   ]
  },
  {
   "cell_type": "code",
   "execution_count": null,
   "id": "c6d182b8-7939-4ef9-80b3-542a84f65f46",
   "metadata": {},
   "outputs": [],
   "source": [
    "# active pandas dataframe and numpy array in r\n",
    "profile = 'cw'\n",
    "developer_data.loc[developer_data['profile'] == profile, 'model_label'] = 1\n",
    "developer_data.loc[developer_data['profile'] != profile, 'model_label'] = 0\n",
    "dataset = shuffle(pd.concat([developer_data.loc[developer_data['model_label'] == 1],\n",
    "                    developer_data.loc[developer_data['model_label'] == 0].sample(developer_data['model_label'].value_counts()[1])]))\n",
    "current_features = noncor_model_features#+[\"project_encoded\"]\n",
    "x = np.array(dataset[current_features])\n",
    "y = np.array(dataset['model_label'])\n",
    "\n",
    "current_features = [item.replace(' ','.') for item in current_features]\n",
    "dataset = pd.DataFrame(data=x, columns = [item.replace(' ','.') for item in current_features])\n",
    "dataset['model_label'] = y\n",
    "\n",
    "\n",
    "with (ro.default_converter + pandas2ri.converter).context():\n",
    "  dataset_r = ro.conversion.py2rpy(dataset)\n",
    "\n",
    "frmla = 'model_label' + ' ~ ' +' + '.join(dataset.columns[:-1])\n",
    "frmla\n",
    "# ddist = rms.datadist(dataset_r)\n",
    "# base.options(datadist=ddist)\n",
    "\n",
    "glm_model = stats.glm(formula=ro.Formula(frmla), data=dataset_r,maxit=1000)\n",
    "step_glm = stats.step(glm_model, direction='both', trace='F')\n",
    "w = car.Anova(step_glm, type=\"II\", test=\"Wald\")\n",
    "coef = lmtest.coeftest(step_glm)\n",
    "with (ro.default_converter + pandas2ri.converter).context():\n",
    "  w_pd = ro.conversion.get_conversion().rpy2py(w)\n",
    "# fitted_values = ro.r.predict(lrm_model, type='fitted.ind')\n",
    "# fitted_values = list(map(lambda x: 0 if x < 0.5 else 1, fitted_values))\n",
    "with (ro.default_converter + pandas2ri.converter).context():\n",
    "  step_glm = ro.conversion.get_conversion().rpy2py(step_glm)\n",
    "fitted_values = list(map(lambda x: 0 if x < 0.5 else 1, step_glm['fitted.values']))\n",
    "# roc1 <- roc(data1$lr_label, m1$fitted.values)\n",
    "# auc(roc1)\n",
    "with (ro.default_converter + pandas2ri.converter).context():\n",
    "  step_glm = ro.conversion.get_conversion().rpy2py(step_glm)\n",
    "fitted_values = list(map(lambda x: 0 if x < 0.5 else 1, step_glm['fitted.values']))\n",
    "accuracy = accuracy_score(y, fitted_values)\n",
    "fpr, tpr, thresholds = roc_curve(y, fitted_values)\n",
    "_auc = auc(fpr, tpr)\n",
    "print('number of datapoints: ',len(dataset))\n",
    "print('Accuracy: ',accuracy)\n",
    "print('AUC: ',_auc)\n",
    "print('number of datapoints: ',len(dataset))\n",
    "\n",
    "w_pd['Chisq%'] = w_pd['Chisq']*100/w_pd['Chisq'].sum()\n",
    "w_pd['Chisq%'] = w_pd['Chisq%'].round(2)\n",
    "w_pd['Signf.'] = w_pd['Pr(>Chisq)'].apply(signf_code)\n",
    "w_pd['Rel.'] = list(zip(*coef))[0][1:]\n",
    "w_pd['Rel.'] = w_pd['Rel.'].apply(arrow)\n",
    "w_pd[['Chisq%','Signf.', 'Rel.']]"
   ]
  },
  {
   "cell_type": "markdown",
   "id": "29171fd8-0989-45d7-8627-547923fd9524",
   "metadata": {},
   "source": [
    "### profile 2 : peripheral - Afterhour"
   ]
  },
  {
   "cell_type": "code",
   "execution_count": null,
   "id": "9975bc42-7b84-4d63-beea-75733f5b75c1",
   "metadata": {},
   "outputs": [],
   "source": [
    "# active pandas dataframe and numpy array in r\n",
    "profile = 'pa'\n",
    "developer_data.loc[developer_data['profile'] == profile, 'model_label'] = 1\n",
    "developer_data.loc[developer_data['profile'] != profile, 'model_label'] = 0\n",
    "dataset = shuffle(pd.concat([developer_data.loc[developer_data['model_label'] == 1],\n",
    "                    developer_data.loc[developer_data['model_label'] == 0].sample(developer_data['model_label'].value_counts()[1])]))\n",
    "current_features = noncor_model_features+[\"project_encoded\"]\n",
    "x = np.array(dataset[current_features])\n",
    "y = np.array(dataset['model_label'])\n",
    "\n",
    "current_features = [item.replace(' ','.') for item in current_features]\n",
    "dataset = pd.DataFrame(data=x, columns = [item.replace(' ','.') for item in current_features])\n",
    "dataset['model_label'] = y\n",
    "\n",
    "\n",
    "with (ro.default_converter + pandas2ri.converter).context():\n",
    "  dataset_r = ro.conversion.py2rpy(dataset)\n",
    "\n",
    "frmla = 'model_label' + ' ~ ' +' + '.join(dataset.columns[:-1])\n",
    "frmla\n",
    "# ddist = rms.datadist(dataset_r)\n",
    "# base.options(datadist=ddist)\n",
    "\n",
    "glm_model = stats.glm(formula=ro.Formula(frmla), data=dataset_r,maxit=1000)\n",
    "step_glm = stats.step(glm_model, direction='both', trace='F')\n",
    "w = car.Anova(step_glm, type=\"II\", test=\"Wald\")\n",
    "coef = lmtest.coeftest(step_glm)\n",
    "with (ro.default_converter + pandas2ri.converter).context():\n",
    "  w_pd = ro.conversion.get_conversion().rpy2py(w)\n",
    "# fitted_values = ro.r.predict(lrm_model, type='fitted.ind')\n",
    "# fitted_values = list(map(lambda x: 0 if x < 0.5 else 1, fitted_values))\n",
    "\n",
    "with (ro.default_converter + pandas2ri.converter).context():\n",
    "  step_glm = ro.conversion.get_conversion().rpy2py(step_glm)\n",
    "fitted_values = list(map(lambda x: 0 if x < 0.5 else 1, step_glm['fitted.values']))\n",
    "accuracy = accuracy_score(y, fitted_values)\n",
    "fpr, tpr, thresholds = roc_curve(y, fitted_values)\n",
    "_auc = auc(fpr, tpr)\n",
    "print('number of datapoints: ',len(dataset))\n",
    "print('Accuracy: ',accuracy)\n",
    "print('AUC: ',_auc)\n",
    "\n",
    "print('number of datapoints: ',len(dataset))\n",
    "\n",
    "w_pd['Chisq%'] = w_pd['Chisq']*100/w_pd['Chisq'].sum()\n",
    "w_pd['Chisq%'] = w_pd['Chisq%'].round(2)\n",
    "w_pd['Signf.'] = w_pd['Pr(>Chisq)'].apply(signf_code)\n",
    "w_pd['Rel.'] = list(zip(*coef))[0][1:]\n",
    "w_pd['Rel.'] = w_pd['Rel.'].apply(arrow)\n",
    "w_pd[['Chisq%','Signf.', 'Rel.']]"
   ]
  },
  {
   "cell_type": "markdown",
   "id": "58948f1d-8454-402c-8355-697ba5076b7c",
   "metadata": {},
   "source": [
    "### profile 3 : peripheral - workhour"
   ]
  },
  {
   "cell_type": "code",
   "execution_count": null,
   "id": "8d0643af-38c0-472c-b2d8-7db8997e6316",
   "metadata": {},
   "outputs": [],
   "source": [
    "# active pandas dataframe and numpy array in r\n",
    "profile = 'pw'\n",
    "developer_data.loc[developer_data['profile'] == profile, 'model_label'] = 1\n",
    "developer_data.loc[developer_data['profile'] != profile, 'model_label'] = 0\n",
    "dataset = shuffle(pd.concat([developer_data.loc[developer_data['model_label'] == 1],\n",
    "                    developer_data.loc[developer_data['model_label'] == 0].sample(developer_data['model_label'].value_counts()[1])]))\n",
    "current_features = noncor_model_features#+[\"project_encoded\"]\n",
    "x = np.array(dataset[current_features])\n",
    "y = np.array(dataset['model_label'])\n",
    "\n",
    "current_features = [item.replace(' ','.') for item in current_features]\n",
    "dataset = pd.DataFrame(data=x, columns = [item.replace(' ','.') for item in current_features])\n",
    "dataset['model_label'] = y\n",
    "\n",
    "with (ro.default_converter + pandas2ri.converter).context():\n",
    "  dataset_r = ro.conversion.py2rpy(dataset)\n",
    "\n",
    "frmla = 'model_label' + ' ~ ' +' + '.join(dataset.columns[:-1])\n",
    "frmla\n",
    "# ddist = rms.datadist(dataset_r)\n",
    "# base.options(datadist=ddist)\n",
    "\n",
    "glm_model = stats.glm(formula=ro.Formula(frmla), data=dataset_r,maxit=1000)\n",
    "step_glm = stats.step(glm_model, direction='both', trace='F')\n",
    "w = car.Anova(step_glm, type=\"II\", test=\"Wald\")\n",
    "coef = lmtest.coeftest(step_glm)\n",
    "with (ro.default_converter + pandas2ri.converter).context():\n",
    "  w_pd = ro.conversion.get_conversion().rpy2py(w)\n",
    "# fitted_values = ro.r.predict(lrm_model, type='fitted.ind')\n",
    "# fitted_values = list(map(lambda x: 0 if x < 0.5 else 1, fitted_values))\n",
    "with (ro.default_converter + pandas2ri.converter).context():\n",
    "  step_glm = ro.conversion.get_conversion().rpy2py(step_glm)\n",
    "fitted_values = list(map(lambda x: 0 if x < 0.5 else 1, step_glm['fitted.values']))\n",
    "# roc1 <- roc(data1$lr_label, m1$fitted.values)\n",
    "# auc(roc1)\n",
    "with (ro.default_converter + pandas2ri.converter).context():\n",
    "  step_glm = ro.conversion.get_conversion().rpy2py(step_glm)\n",
    "fitted_values = list(map(lambda x: 0 if x < 0.5 else 1, step_glm['fitted.values']))\n",
    "accuracy = accuracy_score(y, fitted_values)\n",
    "fpr, tpr, thresholds = roc_curve(y, fitted_values)\n",
    "_auc = auc(fpr, tpr)\n",
    "print('number of datapoints: ',len(dataset))\n",
    "print('Accuracy: ',accuracy)\n",
    "print('AUC: ',_auc)\n",
    "\n",
    "print('number of datapoints: ',len(dataset))\n",
    "\n",
    "w_pd['Chisq%'] = w_pd['Chisq']*100/w_pd['Chisq'].sum()\n",
    "w_pd['Chisq%'] = w_pd['Chisq%'].round(2)\n",
    "w_pd['Signf.'] = w_pd['Pr(>Chisq)'].apply(signf_code)\n",
    "w_pd['Rel.'] = list(zip(*coef))[0][1:]\n",
    "w_pd['Rel.'] = w_pd['Rel.'].apply(arrow)\n",
    "w_pd[['Chisq%','Signf.', 'Rel.']]"
   ]
  },
  {
   "cell_type": "markdown",
   "id": "e24f4fc8",
   "metadata": {},
   "source": [
    "## statistical test"
   ]
  },
  {
   "cell_type": "code",
   "execution_count": null,
   "id": "eff11b3b",
   "metadata": {},
   "outputs": [],
   "source": [
    "ca = developer_data.loc[developer_data['profile']=='ca']\n",
    "cw = developer_data.loc[developer_data['profile']=='cw']\n",
    "pa = developer_data.loc[developer_data['profile']=='pa']\n",
    "pw = developer_data.loc[developer_data['profile']=='pw']\n",
    "core = developer_data.loc[developer_data['profile'].isin(['ca','cw'])]\n",
    "peri = developer_data.loc[developer_data['profile'].isin(['pa','pw'])]"
   ]
  },
  {
   "cell_type": "code",
   "execution_count": null,
   "id": "14218fe1",
   "metadata": {},
   "outputs": [],
   "source": [
    "# compare core and peripheral contributors\n",
    "for fea in non_cluster_features:\n",
    "    x1, x2 = core[fea],peri[fea]\n",
    "    stat, pval = scipy.stats.mannwhitneyu(x1, x2)\n",
    "    d, res = cliffs_delta(x1, x2)\n",
    "    if pval < 0.05: # significantly different\n",
    "        print(fea)\n",
    "        print(stat, pval)\n",
    "        print(d, res)\n",
    "        print('-------------------------------------------------')\n",
    "    else:  # not significantly different\n",
    "        print(fea)\n",
    "        print('not significant')\n",
    "        print('-------------------------------------------------')"
   ]
  },
  {
   "cell_type": "code",
   "execution_count": null,
   "id": "82c9e6a5",
   "metadata": {},
   "outputs": [],
   "source": [
    "# compare core-afterhour and core-workhour contributors\n",
    "for fea in non_cluster_features:\n",
    "    x1, x2 = ca[fea],cw[fea]\n",
    "    stat, pval = scipy.stats.mannwhitneyu(x1, x2)\n",
    "    d, res = cliffs_delta(x1, x2)\n",
    "    if pval < 0.05: # significantly different\n",
    "        print(fea)\n",
    "        print(stat, pval)\n",
    "        print(d, res)\n",
    "        print('-------------------------------------------------')\n",
    "    else:  # not significantly different\n",
    "        print(fea)\n",
    "        print('not significant')\n",
    "        print('-------------------------------------------------')\n"
   ]
  },
  {
   "cell_type": "code",
   "execution_count": null,
   "id": "b60ed333",
   "metadata": {},
   "outputs": [],
   "source": [
    "# compare peripheral-afterhour and peripheral-workhour contributors\n",
    "for fea in non_cluster_features:\n",
    "    x1, x2 = pa[fea],pw[fea]\n",
    "    stat, pval = scipy.stats.mannwhitneyu(x1, x2)\n",
    "    d, res = cliffs_delta(x1, x2)\n",
    "    if pval < 0.05: # significantly different\n",
    "        print(fea)\n",
    "        print(stat, pval)\n",
    "        print(d, res)\n",
    "        print('-------------------------------------------------')\n",
    "    else:  # not significantly different\n",
    "        print(fea)\n",
    "        print('not significant')\n",
    "        print('-------------------------------------------------')"
   ]
  }
 ],
 "metadata": {
  "kernelspec": {
   "display_name": "Python 3 (ipykernel)",
   "language": "python",
   "name": "python3"
  },
  "language_info": {
   "codemirror_mode": {
    "name": "ipython",
    "version": 3
   },
   "file_extension": ".py",
   "mimetype": "text/x-python",
   "name": "python",
   "nbconvert_exporter": "python",
   "pygments_lexer": "ipython3",
   "version": "3.10.11"
  }
 },
 "nbformat": 4,
 "nbformat_minor": 5
}
