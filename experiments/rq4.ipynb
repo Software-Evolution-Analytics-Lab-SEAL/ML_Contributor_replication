{
 "cells": [
  {
   "cell_type": "code",
   "execution_count": null,
   "metadata": {},
   "outputs": [],
   "source": [
    "import numpy as np\n",
    "import pandas as pd\n",
    "import os\n",
    "import rpy2.robjects as ro\n",
    "from rpy2.robjects import numpy2ri\n",
    "from rpy2.robjects.packages import importr"
   ]
  },
  {
   "cell_type": "code",
   "execution_count": null,
   "metadata": {},
   "outputs": [],
   "source": [
    "# install this package if you have not install it, otherwise donot run this cell\n",
    "utils = importr('utils')\n",
    "base = importr('base')\n",
    "utils.chooseCRANmirror(ind=1)\n",
    "utils.install_packages('randtests')"
   ]
  },
  {
   "cell_type": "code",
   "execution_count": null,
   "metadata": {},
   "outputs": [],
   "source": [
    "numpy2ri.activate()\n",
    "randtests = importr(\"randtests\")"
   ]
  },
  {
   "cell_type": "markdown",
   "metadata": {},
   "source": [
    "## Read data"
   ]
  },
  {
   "cell_type": "code",
   "execution_count": null,
   "metadata": {},
   "outputs": [],
   "source": [
    "def string_to_list(col):\n",
    "    if '.' in col:\n",
    "        return [float(item) for item in col.strip('[]').split(',')]\n",
    "    else:\n",
    "        return [int(item) for item in col.strip('[]').split(',')]"
   ]
  },
  {
   "cell_type": "code",
   "execution_count": null,
   "metadata": {},
   "outputs": [],
   "source": [
    "basedir = os.path.join(\"..\",\"data\")\n",
    "projects = ['tensorflow', 'pytorch', 'scikit-learn', 'keras', 'mxnet', 'theano_aesara', 'onnx', 'deeplearning4j']\n",
    "developer_data = pd.read_csv(os.path.join(basedir, 'contributor_features.csv'), index_col = 0)\n",
    "filtered_developer_period_df = pd.read_csv(os.path.join(basedir,'contributor_period_activity.csv'), index_col = 0)\n",
    "developer_sequence = pd.read_csv(os.path.join(basedir,'contributor_activity_sequence.csv'), index_col=0)\n",
    "for col_name in developer_sequence:\n",
    "    if 'sequence' in col_name:\n",
    "        developer_sequence[col_name] = developer_sequence[col_name].apply(string_to_list)"
   ]
  },
  {
   "cell_type": "markdown",
   "metadata": {},
   "source": [
    "## cox stuart trend test"
   ]
  },
  {
   "cell_type": "code",
   "execution_count": null,
   "metadata": {},
   "outputs": [],
   "source": [
    "def cos_stuart(ts, alternative):\n",
    "    if len(ts) < 2:\n",
    "        return None\n",
    "    # alternative: 'left.sided' or 'right.sided'\n",
    "    result = randtests.cox_stuart_test(ts, alternative)\n",
    "    print(result)\n",
    "    p_value = result.rx2(\"p.value\")[0]\n",
    "    return p_value"
   ]
  },
  {
   "cell_type": "code",
   "execution_count": null,
   "metadata": {},
   "outputs": [],
   "source": [
    "ts = [1,2,3,4,5,6,7,8,9,10, 10000]\n",
    "cos_stuart(np.array(ts), 'right.sided')"
   ]
  },
  {
   "cell_type": "code",
   "execution_count": null,
   "metadata": {},
   "outputs": [],
   "source": [
    "def signf_code(chisq):\n",
    "    if chisq <= 0.001:\n",
    "        return '***'\n",
    "    elif chisq <= 0.01:\n",
    "        return '**'\n",
    "    elif chisq <= 0.05:\n",
    "        return '*'\n",
    "    elif chisq <= 0.1:\n",
    "        return '.'\n",
    "    else:\n",
    "        return ' '"
   ]
  },
  {
   "cell_type": "markdown",
   "metadata": {},
   "source": [
    "### Evolution of workload composition"
   ]
  },
  {
   "cell_type": "markdown",
   "metadata": {},
   "source": [
    "#### project-level trend"
   ]
  },
  {
   "cell_type": "code",
   "execution_count": null,
   "metadata": {},
   "outputs": [],
   "source": [
    "project_period_df = []\n",
    "for i in range(len(projects)):\n",
    "    project_df = filtered_developer_period_df.loc[filtered_developer_period_df['project']==projects[i]]\n",
    "    periods = sorted(project_df['period'].unique())\n",
    "    project_sequence_dict = {'project':projects[i]}\n",
    "    for pattern in range(1,6):\n",
    "        project_sequence_dict[f'pattern{pattern}_count'] = []\n",
    "        project_sequence_dict[f'pattern{pattern}_ratio'] = []\n",
    "    for p in periods:\n",
    "        period_df = project_df.loc[project_df['period']==p]\n",
    "        if len(period_df) > 0:\n",
    "            for pattern in range(1,6):\n",
    "                project_sequence_dict[f'pattern{pattern}_count'].append(len(period_df.loc[period_df['wcp_code']==pattern]))\n",
    "                project_sequence_dict[f'pattern{pattern}_ratio'].append(len(period_df.loc[period_df['wcp_code']==pattern])/len(period_df))\n",
    "        else:\n",
    "            for pattern in range(1,6):\n",
    "                project_sequence_dict[f'pattern{pattern}_count'].append(0)\n",
    "                project_sequence_dict[f'pattern{pattern}_ratio'].append(0)\n",
    "\n",
    "    project_period_df.append(project_sequence_dict)\n",
    "project_period_df = pd.DataFrame.from_dict(project_period_df, orient='columns')"
   ]
  },
  {
   "cell_type": "code",
   "execution_count": null,
   "metadata": {},
   "outputs": [],
   "source": [
    "def cos_stuart_project_result(ts):\n",
    "    down = cos_stuart(np.array(ts), 'left.sided')\n",
    "    up = cos_stuart(np.array(ts), 'right.sided')\n",
    "    if up > 0.05 and down > 0.05:\n",
    "        return '-'\n",
    "    elif up <= 0.05:\n",
    "        return f'({signf_code(up)})↗'\n",
    "    elif down <= 0.05:\n",
    "        return f'({signf_code(down)})↘'\n",
    "    "
   ]
  },
  {
   "cell_type": "code",
   "execution_count": null,
   "metadata": {},
   "outputs": [],
   "source": [
    "## overall trend\n",
    "project_trend_df = project_period_df.copy(deep=True)\n",
    "for col in project_trend_df.columns[1:]:\n",
    "    project_trend_df[col] =  project_trend_df[col].apply(cos_stuart_project_result)\n",
    "project_trend_df"
   ]
  },
  {
   "cell_type": "code",
   "execution_count": null,
   "metadata": {},
   "outputs": [],
   "source": [
    "## early to middle stage trend\n",
    "project_trend_df = project_period_df.copy(deep=True)\n",
    "for col in project_trend_df.columns[1:]:\n",
    "    project_trend_df[col] =  project_trend_df[col].apply(lambda x: cos_stuart_project_result(x[:int(len(x)/1.5)]))\n",
    "project_trend_df"
   ]
  },
  {
   "cell_type": "code",
   "execution_count": null,
   "metadata": {},
   "outputs": [],
   "source": [
    "## middle to late stage trend\n",
    "project_trend_df = project_period_df.copy(deep=True)\n",
    "for col in project_trend_df.columns[1:]:\n",
    "    project_trend_df[col] =  project_trend_df[col].apply(lambda x: cos_stuart_project_result(x[int(len(x)/3):]))\n",
    "project_trend_df"
   ]
  },
  {
   "cell_type": "markdown",
   "metadata": {},
   "source": [
    "### workload composition pattern trend"
   ]
  },
  {
   "cell_type": "code",
   "execution_count": null,
   "metadata": {},
   "outputs": [],
   "source": [
    "def cos_stuart_developer_result(ts):\n",
    "    down = cos_stuart(np.array(ts), 'left.sided')\n",
    "    up = cos_stuart(np.array(ts), 'right.sided')\n",
    "    if up > 0.05 and down > 0.05:\n",
    "        return '-'\n",
    "    elif up <= 0.05:\n",
    "        return '↗'\n",
    "    elif down <= 0.05:\n",
    "        return '↘'"
   ]
  },
  {
   "cell_type": "code",
   "execution_count": null,
   "metadata": {},
   "outputs": [],
   "source": [
    "developer_overall_trend_df = pd.DataFrame(columns=['ca','cw','pa','pw'])\n",
    "developer_early_trend_df = pd.DataFrame(columns=['ca','cw','pa','pw'])\n",
    "developer_late_trend_df = pd.DataFrame(columns=['ca','cw','pa','pw'])"
   ]
  },
  {
   "cell_type": "code",
   "execution_count": null,
   "metadata": {},
   "outputs": [],
   "source": [
    "# overall trend\n",
    "wcp_trend_df = developer_sequence.loc[developer_sequence['workload_sequence'].apply(lambda x:len(x)>=2)][['profile','workload_sequence']]\n",
    "wcp_trend_df['workload_sequence']= wcp_trend_df['workload_sequence'].apply(cos_stuart_developer_result)\n",
    "rslt = []\n",
    "for profile in developer_overall_trend_df:\n",
    "    df = wcp_trend_df.loc[wcp_trend_df['profile']==profile]\n",
    "    rslt.append(f'↗({round(100*len(df.loc[df[\"workload_sequence\"]==\"↗\"])/len(df),1)}%) ↘({round(100*len(df.loc[df[\"workload_sequence\"]==\"↘\"])/len(df),1)}%)')\n",
    "developer_overall_trend_df.loc['workload_sequence'] =rslt\n",
    "developer_overall_trend_df"
   ]
  },
  {
   "cell_type": "code",
   "execution_count": null,
   "metadata": {},
   "outputs": [],
   "source": [
    "# early to middle trend\n",
    "wcp_trend_df1 = developer_sequence.loc[developer_sequence['workload_sequence'].apply(lambda x:len(x)>=3)][['profile','workload_sequence']]\n",
    "wcp_trend_df = developer_sequence.loc[developer_sequence['workload_sequence'].apply(lambda x:len(x)>=10)][['profile','workload_sequence']]\n",
    "wcp_trend_df['workload_sequence']= wcp_trend_df['workload_sequence'].apply(lambda x:cos_stuart_developer_result(x[:10]))\n",
    "rslt = []\n",
    "for profile in developer_overall_trend_df:\n",
    "    df1 = wcp_trend_df1.loc[wcp_trend_df1['profile']==profile]\n",
    "    df = wcp_trend_df.loc[wcp_trend_df['profile']==profile]\n",
    "    rslt.append(f'↗({round(100*len(df.loc[df[\"workload_sequence\"]==\"↗\"])/len(df1),1)}%) ↘({round(100*len(df.loc[df[\"workload_sequence\"]==\"↘\"])/len(df1),1)}%)')\n",
    "developer_early_trend_df.loc['workload_sequence'] =rslt\n",
    "developer_early_trend_df"
   ]
  },
  {
   "cell_type": "code",
   "execution_count": null,
   "metadata": {},
   "outputs": [],
   "source": [
    "# middle to late trend\n",
    "wcp_trend_df1 = developer_sequence.loc[developer_sequence['workload_sequence'].apply(lambda x:len(x)>=3)][['profile','workload_sequence']]\n",
    "wcp_trend_df = developer_sequence.loc[developer_sequence['workload_sequence'].apply(lambda x:len(x)>=12)][['profile','workload_sequence']]\n",
    "wcp_trend_df['workload_sequence']= wcp_trend_df['workload_sequence'].apply(lambda x:cos_stuart_developer_result(x[10:]))\n",
    "rslt = []\n",
    "for profile in developer_overall_trend_df:\n",
    "    df1 = wcp_trend_df1.loc[wcp_trend_df1['profile']==profile]\n",
    "    df = wcp_trend_df.loc[wcp_trend_df['profile']==profile]\n",
    "    rslt.append(f'↗({round(100*len(df.loc[df[\"workload_sequence\"]==\"↗\"])/len(df1),1)}%) ↘({round(100*len(df.loc[df[\"workload_sequence\"]==\"↘\"])/len(df1),1)}%)')\n",
    "developer_late_trend_df.loc['workload_sequence'] =rslt\n",
    "developer_late_trend_df"
   ]
  },
  {
   "cell_type": "markdown",
   "metadata": {},
   "source": [
    "## Evolution of work preference"
   ]
  },
  {
   "cell_type": "code",
   "execution_count": null,
   "metadata": {},
   "outputs": [],
   "source": [
    "work_preference_features = ['binned_entropy', 'c3(1)', 'c3(2)', 'c3(3)', 'number_cwt_peaks', 'longest_strike_above_mean', \n",
    "                             'longest_strike_below_mean', 'diverse', 'balance', 'commit', 'issue', 'issue comment', 'pr comment', \n",
    "                             'review']\n",
    "developer_overall_trend_df = pd.DataFrame(columns=['ca','cw','pa','pw'])\n",
    "developer_early_trend_df = pd.DataFrame(columns=['ca','cw','pa','pw'])\n",
    "developer_late_trend_df = pd.DataFrame(columns=['ca','cw','pa','pw'])"
   ]
  },
  {
   "cell_type": "code",
   "execution_count": null,
   "metadata": {},
   "outputs": [],
   "source": [
    "# overall trend\n",
    "for fea in work_preference_features:\n",
    "    temp_fea = fea+\"_sequence\" if not fea in developer_sequence else fea\n",
    "    # remove developer with less than 2 periods\n",
    "    trend_df = developer_sequence.loc[developer_sequence[temp_fea].apply(lambda x:len(x)>=2)][['profile',temp_fea]]\n",
    "    trend_df[temp_fea]= trend_df[temp_fea].apply(cos_stuart_developer_result)\n",
    "    rslt = []\n",
    "    for profile in developer_overall_trend_df:\n",
    "        df = trend_df.loc[trend_df['profile']==profile]\n",
    "        rslt.append(f'↗({round(100*len(df.loc[df[temp_fea]==\"↗\"])/len(df),1)}%) ↘({round(100*len(df.loc[df[temp_fea]==\"↘\"])/len(df),1)}%)')\n",
    "    developer_overall_trend_df.loc[fea] =rslt\n",
    "developer_overall_trend_df"
   ]
  },
  {
   "cell_type": "code",
   "execution_count": null,
   "metadata": {},
   "outputs": [],
   "source": [
    "# early to middle trend\n",
    "for fea in work_preference_features:\n",
    "    temp_fea = fea+\"_sequence\" if not fea in developer_sequence else fea\n",
    "    # remove developer with less than 3 periods\n",
    "    trend_df1 = developer_sequence.loc[developer_sequence[temp_fea].apply(lambda x:len(x)>=3)][['profile',temp_fea]]\n",
    "    trend_df = developer_sequence.loc[developer_sequence[temp_fea].apply(lambda x:len(x)>=10)][['profile',temp_fea]]\n",
    "    trend_df[temp_fea]= trend_df[temp_fea].apply(lambda x: cos_stuart_developer_result(x[:10]))\n",
    "    rslt = []\n",
    "    for profile in developer_early_trend_df:\n",
    "        df1 = trend_df1.loc[trend_df1['profile']==profile]\n",
    "        df = trend_df.loc[trend_df['profile']==profile]\n",
    "        rslt.append(f'↗({round(100*len(df.loc[df[temp_fea]==\"↗\"])/len(df1),1)}%) ↘({round(100*len(df.loc[df[temp_fea]==\"↘\"])/len(df1),1)}%)')\n",
    "    developer_early_trend_df.loc[fea] =rslt\n",
    "developer_early_trend_df"
   ]
  },
  {
   "cell_type": "code",
   "execution_count": null,
   "metadata": {},
   "outputs": [],
   "source": [
    "# middle to late trend\n",
    "for fea in work_preference_features:\n",
    "    temp_fea = fea+\"_sequence\" if not fea in developer_sequence else fea\n",
    "    # remove developer with less than 3 periods\n",
    "    trend_df1 = developer_sequence.loc[developer_sequence[temp_fea].apply(lambda x:len(x)>=3)][['profile',temp_fea]]\n",
    "    trend_df = developer_sequence.loc[developer_sequence[temp_fea].apply(lambda x:len(x)>=12)][['profile',temp_fea]]\n",
    "    trend_df[temp_fea]= trend_df[temp_fea].apply(lambda x: cos_stuart_developer_result(x[10:]))\n",
    "    rslt = []\n",
    "    for profile in developer_late_trend_df:\n",
    "        df1 = trend_df1.loc[trend_df1['profile']==profile]\n",
    "        df = trend_df.loc[trend_df['profile']==profile]\n",
    "        rslt.append(f'↗({round(100*len(df.loc[df[temp_fea]==\"↗\"])/len(df1),1)}%) ↘({round(100*len(df.loc[df[temp_fea]==\"↘\"])/len(df1),1)}%)')\n",
    "    developer_late_trend_df.loc[fea] =rslt\n",
    "developer_late_trend_df"
   ]
  },
  {
   "cell_type": "markdown",
   "metadata": {},
   "source": [
    "### technical importance"
   ]
  },
  {
   "cell_type": "code",
   "execution_count": null,
   "metadata": {},
   "outputs": [],
   "source": [
    "centrality_sequence_features = ['per commit centrality', 'period commit centrality']\n",
    "developer_overall_trend_df = pd.DataFrame(columns=['ca','cw','pa','pw'])\n",
    "developer_early_trend_df = pd.DataFrame(columns=['ca','cw','pa','pw'])\n",
    "developer_late_trend_df = pd.DataFrame(columns=['ca','cw','pa','pw'])"
   ]
  },
  {
   "cell_type": "code",
   "execution_count": null,
   "metadata": {},
   "outputs": [],
   "source": [
    "# overall trend\n",
    "for fea in centrality_sequence_features:\n",
    "    temp_fea = fea+\"_sequence\" if not fea in developer_sequence else fea\n",
    "    # remove developer with less than 2 periods\n",
    "    trend_df = developer_sequence.loc[developer_sequence[temp_fea].apply(lambda x:len(x)>=2)][['profile',temp_fea]]\n",
    "    trend_df[temp_fea]= trend_df[temp_fea].apply(cos_stuart_developer_result)\n",
    "    rslt = []\n",
    "    for profile in developer_overall_trend_df:\n",
    "        df = trend_df.loc[trend_df['profile']==profile]\n",
    "        rslt.append(f'↗({round(100*len(df.loc[df[temp_fea]==\"↗\"])/len(df),1)}%) ↘({round(100*len(df.loc[df[temp_fea]==\"↘\"])/len(df),1)}%)')\n",
    "    developer_overall_trend_df.loc[fea] =rslt\n",
    "developer_overall_trend_df"
   ]
  },
  {
   "cell_type": "code",
   "execution_count": null,
   "metadata": {},
   "outputs": [],
   "source": [
    "# early to middle trend:\n",
    "temp_fea = \"per commit centrality_sequence\"\n",
    "# remove developer with less than 3 commits\n",
    "trend_df1 = developer_sequence.loc[developer_sequence[temp_fea].apply(lambda x:len(x)>=3)][['profile',temp_fea]]\n",
    "trend_df = developer_sequence.loc[developer_sequence[temp_fea].apply(lambda x:len(x)>=40)][['profile',temp_fea]]\n",
    "trend_df[temp_fea]= trend_df[temp_fea].apply(lambda x: cos_stuart_developer_result(x[:40]))\n",
    "rslt = []\n",
    "for profile in developer_early_trend_df:\n",
    "    df1 = trend_df1.loc[trend_df1['profile']==profile]\n",
    "    df = trend_df.loc[trend_df['profile']==profile]\n",
    "    rslt.append(f'↗({round(100*len(df.loc[df[temp_fea]==\"↗\"])/len(df1),1)}%) ↘({round(100*len(df.loc[df[temp_fea]==\"↘\"])/len(df1),1)}%)')\n",
    "developer_early_trend_df.loc[temp_fea] =rslt\n",
    "developer_early_trend_df"
   ]
  },
  {
   "cell_type": "code",
   "execution_count": null,
   "metadata": {},
   "outputs": [],
   "source": [
    "# early to middle trend:\n",
    "temp_fea = \"period commit centrality_sequence\"\n",
    "# remove developer with less than 3 periods\n",
    "trend_df1 = developer_sequence.loc[developer_sequence[temp_fea].apply(lambda x:len(x)>=3)][['profile',temp_fea]]\n",
    "trend_df = developer_sequence.loc[developer_sequence[temp_fea].apply(lambda x:len(x)>=10)][['profile',temp_fea]]\n",
    "trend_df[temp_fea]= trend_df[temp_fea].apply(lambda x: cos_stuart_developer_result(x[:10]))\n",
    "rslt = []\n",
    "for profile in developer_early_trend_df:\n",
    "    df1 = trend_df1.loc[trend_df1['profile']==profile]\n",
    "    df = trend_df.loc[trend_df['profile']==profile]\n",
    "    rslt.append(f'↗({round(100*len(df.loc[df[temp_fea]==\"↗\"])/len(df1),1)}%) ↘({round(100*len(df.loc[df[temp_fea]==\"↘\"])/len(df1),1)}%)')\n",
    "developer_early_trend_df.loc[temp_fea] =rslt\n",
    "developer_early_trend_df"
   ]
  },
  {
   "cell_type": "code",
   "execution_count": null,
   "metadata": {},
   "outputs": [],
   "source": [
    "# middle to late trend\n",
    "temp_fea = \"per commit centrality_sequence\"\n",
    "# remove developer with less than 3 periods\n",
    "trend_df1 = developer_sequence.loc[developer_sequence[temp_fea].apply(lambda x:len(x)>=3)][['profile',temp_fea]]\n",
    "trend_df = developer_sequence.loc[developer_sequence[temp_fea].apply(lambda x:len(x)>=42)][['profile',temp_fea]]\n",
    "trend_df[temp_fea]= trend_df[temp_fea].apply(lambda x: cos_stuart_developer_result(x[40:]))\n",
    "rslt = []\n",
    "for profile in developer_late_trend_df:\n",
    "    df1 = trend_df1.loc[trend_df1['profile']==profile]\n",
    "    df = trend_df.loc[trend_df['profile']==profile]\n",
    "    rslt.append(f'↗({round(100*len(df.loc[df[temp_fea]==\"↗\"])/len(df1),1)}%) ↘({round(100*len(df.loc[df[temp_fea]==\"↘\"])/len(df1),1)}%)')\n",
    "developer_late_trend_df.loc[temp_fea] =rslt\n",
    "developer_late_trend_df"
   ]
  },
  {
   "cell_type": "code",
   "execution_count": null,
   "metadata": {},
   "outputs": [],
   "source": [
    "# middle to late trend\n",
    "temp_fea = \"period commit centrality_sequence\"\n",
    "# remove developer with less than 3 periods\n",
    "trend_df1 = developer_sequence.loc[developer_sequence[temp_fea].apply(lambda x:len(x)>=3)][['profile',temp_fea]]\n",
    "trend_df = developer_sequence.loc[developer_sequence[temp_fea].apply(lambda x:len(x)>=12)][['profile',temp_fea]]\n",
    "trend_df[temp_fea]= trend_df[temp_fea].apply(lambda x: cos_stuart_developer_result(x[10:]))\n",
    "rslt = []\n",
    "for profile in developer_late_trend_df:\n",
    "    df1 = trend_df1.loc[trend_df1['profile']==profile]\n",
    "    df = trend_df.loc[trend_df['profile']==profile]\n",
    "    rslt.append(f'↗({round(100*len(df.loc[df[temp_fea]==\"↗\"])/len(df1),1)}%) ↘({round(100*len(df.loc[df[temp_fea]==\"↘\"])/len(df1),1)}%)')\n",
    "developer_late_trend_df.loc[temp_fea] =rslt\n",
    "developer_late_trend_df"
   ]
  }
 ],
 "metadata": {
  "kernelspec": {
   "display_name": "base",
   "language": "python",
   "name": "python3"
  },
  "language_info": {
   "codemirror_mode": {
    "name": "ipython",
    "version": 3
   },
   "file_extension": ".py",
   "mimetype": "text/x-python",
   "name": "python",
   "nbconvert_exporter": "python",
   "pygments_lexer": "ipython3",
   "version": "3.10.11"
  }
 },
 "nbformat": 4,
 "nbformat_minor": 2
}
